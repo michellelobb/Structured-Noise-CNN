{
 "cells": [
  {
   "cell_type": "code",
   "execution_count": 13,
   "id": "9b56468c",
   "metadata": {},
   "outputs": [],
   "source": [
    "import tensorflow as tf\n",
    "import tensorflow_datasets as tfds\n",
    "import numpy as np\n",
    "\n",
    "from sklearn.model_selection import train_test_split\n",
    "from sklearn.utils import shuffle\n",
    "import random\n",
    "import scipy.signal\n",
    "from skimage.restoration import denoise_tv_bregman\n",
    "from skimage import restoration\n",
    "import skimage\n",
    "import matplotlib.pyplot as plt\n",
    "from PIL import Image, ImageDraw\n",
    "import cv2"
   ]
  },
  {
   "cell_type": "code",
   "execution_count": 3,
   "id": "3db3c604",
   "metadata": {},
   "outputs": [],
   "source": [
    "random.seed(200)\n",
    "\n",
    "tf.keras.backend.clear_session()\n",
    "tf.config.optimizer.set_jit(False) # Start with XLA disabled.\n",
    "\n",
    "def load_data():\n",
    "  fashion_mnist = tf.keras.datasets.fashion_mnist\n",
    "\n",
    "  (x_train, y_train), (x_test, y_test) = fashion_mnist.load_data()\n",
    "\n",
    "\n",
    "  x_train = x_train.astype('float32') / 256\n",
    "  x_test = x_test.astype('float32') / 256\n",
    "\n",
    "  # Convert class vectors to binary class matrices.\n",
    "  y_train = tf.keras.utils.to_categorical(y_train, num_classes=10)\n",
    "  y_test = tf.keras.utils.to_categorical(y_test, num_classes=10)\n",
    "  return ((x_train, y_train), (x_test, y_test))\n",
    "\n",
    "(x_train, y_train), (x_test, y_test) = load_data()\n",
    "\n",
    "img = Image.new('L', (28, 28), 255)\n",
    "draw = ImageDraw.Draw(img)\n",
    "for y in range(5, 91, 4):\n",
    "    draw.line((32, y, 0, y), (0), 2)\n",
    "\n",
    "def struct_noise(image):\n",
    "   im = Image.fromarray((image * 255).astype(np.uint8)) \n",
    "   noisyimage = Image.blend(im, img, 0.1)\n",
    "   return noisyimage\n",
    "\n",
    "\n",
    "\n",
    "\n",
    "#test 1: train0 test0 = base splits\n",
    "\n",
    "#test 2: train0 test75\n",
    "a,b,an,bn = train_test_split(x_test, y_test, test_size=0.25, random_state=44)\n",
    "a0 = np.empty_like(a)\n",
    "y2 = np.empty_like(an)\n",
    "ytv2 = np.empty_like(an)\n",
    "atv = np.empty_like(a)\n",
    "for j in range(len(a)):\n",
    "    a0[j] = struct_noise(a[j])\n",
    "    atv[j] = skimage.restoration.denoise_tv_bregman(a0[j])\n",
    "    y2[j] = an[j]\n",
    "    ytv2[j] = an[j]\n",
    "a0 = np.concatenate((a0,b))\n",
    "atv = np.concatenate((atv,b))\n",
    "y2 = np.concatenate((y2,bn))\n",
    "ytv2 = np.concatenate((ytv2, bn))\n",
    "\n",
    "#test 3: train0 test50\n",
    "c,d,cn,dn = train_test_split(x_test, y_test, test_size=0.50, random_state=44)\n",
    "c0 = np.empty_like(c)\n",
    "ctv = np.empty_like(c)\n",
    "y3 = np.empty_like(cn)\n",
    "ytv3 = np.empty_like(cn)\n",
    "for j in range(len(c)):\n",
    "    c0[j] = struct_noise(c[j])\n",
    "    ctv[j] = skimage.restoration.denoise_tv_bregman(c0[j])\n",
    "    y3[j] = cn[j]\n",
    "    ytv3[j] = cn[j]\n",
    "c0 = np.concatenate((c0,d))\n",
    "ctv = np.concatenate((ctv,d))\n",
    "y3 = np.concatenate((y3,dn))\n",
    "ytv3 = np.concatenate((ytv3, dn))\n",
    "\n",
    "#test 4: train0 test25\n",
    "e,f,en,fn = train_test_split(x_test,y_test, test_size=0.75, random_state=44)\n",
    "e0 = np.empty_like(e)\n",
    "etv = np.empty_like(e)\n",
    "y4 = np.empty_like(en)\n",
    "ytv4 = np.empty_like(en)\n",
    "for j in range(len(e)):\n",
    "    e0[j] = struct_noise(e[j])\n",
    "    etv[j] = skimage.restoration.denoise_tv_bregman(e0[j])\n",
    "    y4[j] = en[j]\n",
    "    ytv4[j] = en[j]\n",
    "e0 = np.concatenate((e0,f))\n",
    "etv = np.concatenate((etv,f))\n",
    "y4 = np.concatenate((y4,fn))\n",
    "ytv4 = np.concatenate((ytv4, fn))\n",
    "\n",
    "#test 5: train0 test100\n",
    "g0 = np.empty_like(x_test)\n",
    "gtv = np.empty_like(x_test)\n",
    "for j in range(len(x_test)):\n",
    "    g0[j] = struct_noise(x_test[j])\n",
    "    gtv[j] = skimage.restoration.denoise_tv_bregman(g0[j])"
   ]
  },
  {
   "cell_type": "code",
   "execution_count": 4,
   "id": "8d8ad5cc",
   "metadata": {},
   "outputs": [],
   "source": [
    "def generate_model():\n",
    "  return tf.keras.models.Sequential([\n",
    "    tf.keras.layers.Conv2D(32, (3, 3), padding='same', input_shape=(28,28,1)),\n",
    "    tf.keras.layers.Activation('relu'),\n",
    "    tf.keras.layers.Conv2D(32, (3, 3)),\n",
    "    tf.keras.layers.Activation('relu'),\n",
    "    tf.keras.layers.MaxPooling2D(pool_size=(2, 2)),\n",
    "    tf.keras.layers.Dropout(0.25),\n",
    "\n",
    "    tf.keras.layers.Conv2D(64, (3, 3), padding='same'),\n",
    "    tf.keras.layers.Activation('relu'),\n",
    "    tf.keras.layers.Conv2D(64, (3, 3)),\n",
    "    tf.keras.layers.Activation('relu'),\n",
    "    tf.keras.layers.MaxPooling2D(pool_size=(2, 2)),\n",
    "    tf.keras.layers.Dropout(0.25),\n",
    "\n",
    "    tf.keras.layers.Flatten(),\n",
    "    tf.keras.layers.Dense(512),\n",
    "    tf.keras.layers.Activation('relu'),\n",
    "    tf.keras.layers.Dropout(0.5),\n",
    "    tf.keras.layers.Dense(10),\n",
    "    tf.keras.layers.Activation('softmax')\n",
    "  ])\n",
    "\n",
    "model = generate_model()"
   ]
  },
  {
   "cell_type": "code",
   "execution_count": 5,
   "id": "ee0effba",
   "metadata": {},
   "outputs": [
    {
     "name": "stdout",
     "output_type": "stream",
     "text": [
      "Epoch 1/25\n",
      "235/235 [==============================] - 27s 112ms/step - loss: 1.1088 - accuracy: 0.6020 - val_loss: 0.6458 - val_accuracy: 0.7575\n",
      "Epoch 2/25\n",
      "235/235 [==============================] - 33s 141ms/step - loss: 0.6411 - accuracy: 0.7598 - val_loss: 0.5361 - val_accuracy: 0.7992\n",
      "Epoch 3/25\n",
      "235/235 [==============================] - 32s 134ms/step - loss: 0.5482 - accuracy: 0.7973 - val_loss: 0.4696 - val_accuracy: 0.8303\n",
      "Epoch 4/25\n",
      "235/235 [==============================] - 27s 116ms/step - loss: 0.4998 - accuracy: 0.8165 - val_loss: 0.4384 - val_accuracy: 0.8407\n",
      "Epoch 5/25\n",
      "235/235 [==============================] - 27s 114ms/step - loss: 0.4608 - accuracy: 0.8316 - val_loss: 0.4078 - val_accuracy: 0.8529\n",
      "Epoch 6/25\n",
      "235/235 [==============================] - 27s 114ms/step - loss: 0.4340 - accuracy: 0.8421 - val_loss: 0.3874 - val_accuracy: 0.8635\n",
      "Epoch 7/25\n",
      "235/235 [==============================] - 27s 114ms/step - loss: 0.4078 - accuracy: 0.8523 - val_loss: 0.3654 - val_accuracy: 0.8690\n",
      "Epoch 8/25\n",
      "235/235 [==============================] - 27s 114ms/step - loss: 0.3874 - accuracy: 0.8593 - val_loss: 0.3489 - val_accuracy: 0.8753\n",
      "Epoch 9/25\n",
      "235/235 [==============================] - 26s 113ms/step - loss: 0.3733 - accuracy: 0.8644 - val_loss: 0.3377 - val_accuracy: 0.8797\n",
      "Epoch 10/25\n",
      "235/235 [==============================] - 27s 115ms/step - loss: 0.3573 - accuracy: 0.8712 - val_loss: 0.3244 - val_accuracy: 0.8846\n",
      "Epoch 11/25\n",
      "235/235 [==============================] - 27s 115ms/step - loss: 0.3455 - accuracy: 0.8742 - val_loss: 0.3149 - val_accuracy: 0.8866\n",
      "Epoch 12/25\n",
      "235/235 [==============================] - 28s 119ms/step - loss: 0.3315 - accuracy: 0.8787 - val_loss: 0.3085 - val_accuracy: 0.8890\n",
      "Epoch 13/25\n",
      "235/235 [==============================] - 27s 117ms/step - loss: 0.3242 - accuracy: 0.8809 - val_loss: 0.2979 - val_accuracy: 0.8944\n",
      "Epoch 14/25\n",
      "235/235 [==============================] - 27s 114ms/step - loss: 0.3142 - accuracy: 0.8856 - val_loss: 0.2876 - val_accuracy: 0.8969\n",
      "Epoch 15/25\n",
      "235/235 [==============================] - 27s 113ms/step - loss: 0.3070 - accuracy: 0.8881 - val_loss: 0.2906 - val_accuracy: 0.8930\n",
      "Epoch 16/25\n",
      "235/235 [==============================] - 27s 114ms/step - loss: 0.3004 - accuracy: 0.8913 - val_loss: 0.2775 - val_accuracy: 0.8995\n",
      "Epoch 17/25\n",
      "235/235 [==============================] - 27s 114ms/step - loss: 0.2878 - accuracy: 0.8941 - val_loss: 0.2720 - val_accuracy: 0.9018\n",
      "Epoch 18/25\n",
      "235/235 [==============================] - 27s 114ms/step - loss: 0.2868 - accuracy: 0.8943 - val_loss: 0.2686 - val_accuracy: 0.9039\n",
      "Epoch 19/25\n",
      "235/235 [==============================] - 27s 114ms/step - loss: 0.2793 - accuracy: 0.8993 - val_loss: 0.2622 - val_accuracy: 0.9042\n",
      "Epoch 20/25\n",
      "235/235 [==============================] - 27s 115ms/step - loss: 0.2736 - accuracy: 0.8998 - val_loss: 0.2599 - val_accuracy: 0.9060\n",
      "Epoch 21/25\n",
      "235/235 [==============================] - 26s 112ms/step - loss: 0.2698 - accuracy: 0.9005 - val_loss: 0.2598 - val_accuracy: 0.9055\n",
      "Epoch 22/25\n",
      "235/235 [==============================] - 27s 114ms/step - loss: 0.2647 - accuracy: 0.9024 - val_loss: 0.2543 - val_accuracy: 0.9094\n",
      "Epoch 23/25\n",
      "235/235 [==============================] - 27s 113ms/step - loss: 0.2588 - accuracy: 0.9057 - val_loss: 0.2491 - val_accuracy: 0.9104\n",
      "Epoch 24/25\n",
      "235/235 [==============================] - 27s 114ms/step - loss: 0.2566 - accuracy: 0.9057 - val_loss: 0.2530 - val_accuracy: 0.9082\n",
      "Epoch 25/25\n",
      "235/235 [==============================] - 27s 113ms/step - loss: 0.2514 - accuracy: 0.9080 - val_loss: 0.2434 - val_accuracy: 0.9136\n"
     ]
    }
   ],
   "source": [
    "def compile_model(model):\n",
    "  opt = tf.keras.optimizers.Adam(learning_rate=0.0001)\n",
    "  model.compile(loss='categorical_crossentropy',\n",
    "                optimizer=opt,\n",
    "                metrics=['accuracy'])\n",
    "  return model\n",
    "\n",
    "model = compile_model(model)\n",
    "\n",
    "def train_model(model, x_train, y_train, x_test, y_test, epochs=25):\n",
    "  model.fit(x_train, y_train, batch_size=256, epochs=epochs, validation_data=(x_test, y_test), shuffle=True)\n",
    "\n",
    "train_model(model, x_train,y_train, x_test,y_test)"
   ]
  },
  {
   "cell_type": "code",
   "execution_count": 6,
   "id": "4fd09263",
   "metadata": {},
   "outputs": [
    {
     "name": "stdout",
     "output_type": "stream",
     "text": [
      "313/313 [==============================] - 2s 6ms/step - loss: 0.2434 - accuracy: 0.9136\n",
      "Benchmark Test loss: 0.24336116015911102\n",
      "Benchmark Test accuracy: 0.9136000275611877\n",
      "313/313 [==============================] - 2s 7ms/step - loss: 15.4244 - accuracy: 0.8870\n",
      "B75 Test loss: 15.42438793182373\n",
      "B75 Test accuracy: 0.8870000243186951\n",
      "313/313 [==============================] - 2s 7ms/step - loss: 15.7273 - accuracy: 0.8869\n",
      "T75 Test loss: 15.72725772857666\n",
      "T75 Test accuracy: 0.886900007724762\n",
      "313/313 [==============================] - 2s 6ms/step - loss: 10.2186 - accuracy: 0.8957\n",
      "B50 Test loss: 10.2186279296875\n",
      "B50 Test accuracy: 0.8956999778747559\n",
      "313/313 [==============================] - 2s 6ms/step - loss: 10.4372 - accuracy: 0.8961\n",
      "T50 Test loss: 10.437169075012207\n",
      "T50 Test accuracy: 0.8960999846458435\n",
      "313/313 [==============================] - 2s 6ms/step - loss: 5.0477 - accuracy: 0.9036\n",
      "B25 Test loss: 5.047741413116455\n",
      "B25 Test accuracy: 0.9035999774932861\n",
      "313/313 [==============================] - 2s 6ms/step - loss: 5.1855 - accuracy: 0.9035\n",
      "T25 Test loss: 5.185481071472168\n",
      "T25 Test accuracy: 0.9035000205039978\n",
      "313/313 [==============================] - 2s 6ms/step - loss: 21.0197 - accuracy: 0.8749\n",
      "B100 Test loss: 21.019668579101562\n",
      "B100 Test accuracy: 0.8748999834060669\n",
      "313/313 [==============================] - 2s 6ms/step - loss: 21.5447 - accuracy: 0.8752\n",
      "T100 Test loss: 21.54465103149414\n",
      "T100 Test accuracy: 0.8751999735832214\n"
     ]
    }
   ],
   "source": [
    "scores_t1 = model.evaluate(x_test, y_test, verbose=1)\n",
    "print('Benchmark Test loss:', scores_t1[0])\n",
    "print('Benchmark Test accuracy:', scores_t1[1])\n",
    "\n",
    "base_scores_t2 = model.evaluate(a0, y2, verbose=1)\n",
    "print('B75 Test loss:', base_scores_t2[0])\n",
    "print('B75 Test accuracy:', base_scores_t2[1])\n",
    "\n",
    "tv_scores_t2 = model.evaluate(atv, ytv2, verbose=1)\n",
    "print('T75 Test loss:', tv_scores_t2[0])\n",
    "print('T75 Test accuracy:', tv_scores_t2[1])\n",
    "\n",
    "base_scores_t3 = model.evaluate(c0, y3, verbose=1)\n",
    "print('B50 Test loss:', base_scores_t3[0])\n",
    "print('B50 Test accuracy:', base_scores_t3[1])\n",
    "\n",
    "tv_scores_t3 = model.evaluate(ctv, ytv3, verbose=1)\n",
    "print('T50 Test loss:', tv_scores_t3[0])\n",
    "print('T50 Test accuracy:', tv_scores_t3[1])\n",
    "\n",
    "base_scores_t4 = model.evaluate(e0, y4, verbose=1)\n",
    "print('B25 Test loss:', base_scores_t4[0])\n",
    "print('B25 Test accuracy:', base_scores_t4[1])\n",
    "\n",
    "tv_scores_t4 = model.evaluate(etv, ytv4, verbose=1)\n",
    "print('T25 Test loss:', tv_scores_t4[0])\n",
    "print('T25 Test accuracy:', tv_scores_t4[1])\n",
    "\n",
    "base_scores_t5 = model.evaluate(g0, y_test, verbose=1)\n",
    "print('B100 Test loss:', base_scores_t5[0])\n",
    "print('B100 Test accuracy:', base_scores_t5[1])\n",
    "\n",
    "tv_scores_t5 = model.evaluate(gtv, y_test, verbose=1)\n",
    "print('T100 Test loss:', tv_scores_t5[0])\n",
    "print('T100 Test accuracy:', tv_scores_t5[1])"
   ]
  },
  {
   "cell_type": "code",
   "execution_count": 7,
   "id": "bd270c75",
   "metadata": {},
   "outputs": [
    {
     "data": {
      "image/png": "[encoded data removed]",
      "text/plain": [
       "<Figure size 640x480 with 1 Axes>"
      ]
     },
     "metadata": {},
     "output_type": "display_data"
    }
   ],
   "source": [
    "plt.imshow((a[0] * 255).astype(np.uint8))\n",
    "plt.show()\n"
   ]
  },
  {
   "cell_type": "code",
   "execution_count": 15,
   "id": "3e6c1781",
   "metadata": {},
   "outputs": [
    {
     "data": {
      "image/png": "[encoded data removed]",
      "text/plain": [
       "<Figure size 640x480 with 1 Axes>"
      ]
     },
     "metadata": {},
     "output_type": "display_data"
    },
    {
     "name": "stdout",
     "output_type": "stream",
     "text": [
      "7.271176604779778\n"
     ]
    }
   ],
   "source": [
    "plt.imshow((a0[0] * 255).astype(np.uint8))\n",
    "plt.show()\n",
    "psnr = cv2.PSNR(a[0], a0[0])\n",
    "print(psnr)"
   ]
  },
  {
   "cell_type": "code",
   "execution_count": 14,
   "id": "e352f5bb",
   "metadata": {},
   "outputs": [
    {
     "name": "stdout",
     "output_type": "stream",
     "text": [
      "7.164285981853002\n"
     ]
    }
   ],
   "source": [
    "psnr2 = cv2.PSNR(a[0], atv[0])\n",
    "print(psnr2)"
   ]
  },
  {
   "cell_type": "code",
   "execution_count": null,
   "id": "1103347b",
   "metadata": {},
   "outputs": [],
   "source": []
  }
 ],
 "metadata": {
  "kernelspec": {
   "display_name": "Python 3 (ipykernel)",
   "language": "python",
   "name": "python3"
  },
  "language_info": {
   "codemirror_mode": {
    "name": "ipython",
    "version": 3
   },
   "file_extension": ".py",
   "mimetype": "text/x-python",
   "name": "python",
   "nbconvert_exporter": "python",
   "pygments_lexer": "ipython3",
   "version": "3.9.16"
  }
 },
 "nbformat": 4,
 "nbformat_minor": 5
}
